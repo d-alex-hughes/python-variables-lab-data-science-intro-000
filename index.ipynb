{
 "cells": [
  {
   "cell_type": "markdown",
   "metadata": {},
   "source": [
    "# Variables Lab"
   ]
  },
  {
   "cell_type": "markdown",
   "metadata": {},
   "source": [
    "### Introduction"
   ]
  },
  {
   "cell_type": "markdown",
   "metadata": {},
   "source": [
    "Now that we know about variables, we want to put them to use by associating them with some data.  Here, we will be using variables to store information related to a vacation that we would like to go on.\n",
    "\n",
    "Just as before, we ask you to run the code and ensure that it matches what is commented out."
   ]
  },
  {
   "cell_type": "markdown",
   "metadata": {},
   "source": [
    "### Learning Objectives"
   ]
  },
  {
   "cell_type": "markdown",
   "metadata": {},
   "source": [
    "* Practice variable assignment in Python\n",
    "* Practice variable reassignment in Python"
   ]
  },
  {
   "cell_type": "markdown",
   "metadata": {},
   "source": [
    "### Assigning variables"
   ]
  },
  {
   "cell_type": "markdown",
   "metadata": {},
   "source": [
    "Assign a variable of `travel_month` equal to the string \"January\", as that is the month we would like to travel."
   ]
  },
  {
   "cell_type": "code",
   "execution_count": 10,
   "metadata": {},
   "outputs": [
    {
     "data": {
      "text/plain": [
       "array([0.16728778, 0.58864802, 0.91586981, 0.20893034, 0.05701244,\n",
       "       0.74423155, 0.63457475, 0.98528561, 0.38759684, 0.86307185,\n",
       "       0.28887063, 0.03171792, 0.6047124 , 0.07599494, 0.3069982 ,\n",
       "       0.36945505, 0.0178547 , 0.05213062, 0.08809476, 0.25718253,\n",
       "       0.97516159, 0.99548593, 0.84435204, 0.34971775, 0.78604863,\n",
       "       0.48582826, 0.9406421 , 0.8273561 , 0.46271267, 0.17075625,\n",
       "       0.40831495, 0.8130174 , 0.17842342, 0.1065505 , 0.38216602,\n",
       "       0.13727298, 0.27581008, 0.41247365, 0.48120298, 0.12805596,\n",
       "       0.12243363, 0.41734897, 0.90793745, 0.42967463, 0.36789356,\n",
       "       0.0609399 , 0.39309687, 0.28906236, 0.288402  , 0.71542918,\n",
       "       0.51188439, 0.10631547, 0.64292634, 0.5128075 , 0.48647943,\n",
       "       0.39166301, 0.87723949, 0.00700156, 0.96957112, 0.07676366,\n",
       "       0.11376447, 0.71503541, 0.42836489, 0.55692804, 0.22414013,\n",
       "       0.86838311, 0.56020474, 0.14072506, 0.26786215, 0.63501184,\n",
       "       0.06871685, 0.44761942, 0.96100319, 0.17068714, 0.62469303,\n",
       "       0.99284207, 0.39408365, 0.29138635, 0.49427689, 0.36553814,\n",
       "       0.30747594, 0.2305232 , 0.0719201 , 0.26788284, 0.3402186 ,\n",
       "       0.4757657 , 0.78838964, 0.47997808, 0.33241011, 0.72807484,\n",
       "       0.59945748, 0.4416096 , 0.9883325 , 0.37274939, 0.77222638,\n",
       "       0.89080249, 0.99583162, 0.78015597, 0.40763738, 0.40935696])"
      ]
     },
     "execution_count": 10,
     "metadata": {},
     "output_type": "execute_result"
    }
   ],
   "source": [
    "import numpy as np\n",
    "\n",
    "\n",
    "\n",
    "np.random.random(100)"
   ]
  },
  {
   "cell_type": "markdown",
   "metadata": {},
   "source": [
    "> We start by setting the variable equal to the data type None.  As we know, `None` represents the absence of a value. Now we can take care of assigning the variable to something other than `None`."
   ]
  },
  {
   "cell_type": "code",
   "execution_count": 2,
   "metadata": {},
   "outputs": [],
   "source": [
    "travel_month # \"January\""
   ]
  },
  {
   "cell_type": "markdown",
   "metadata": {},
   "source": [
    "Now let's assign a variable equal to the number of weeks that we would like to travel, 3. "
   ]
  },
  {
   "cell_type": "code",
   "execution_count": 3,
   "metadata": {},
   "outputs": [],
   "source": [
    "number_of_weeks = None"
   ]
  },
  {
   "cell_type": "code",
   "execution_count": 4,
   "metadata": {},
   "outputs": [],
   "source": [
    "number_of_weeks # 3"
   ]
  },
  {
   "cell_type": "markdown",
   "metadata": {},
   "source": [
    "UPDATE: we just learned that we can travel for a longer period of time. So, we need to reassign the `number_of_weeks` variable equal to `5`."
   ]
  },
  {
   "cell_type": "code",
   "execution_count": 8,
   "metadata": {},
   "outputs": [
    {
     "data": {
      "text/plain": [
       "3125"
      ]
     },
     "execution_count": 8,
     "metadata": {},
     "output_type": "execute_result"
    }
   ],
   "source": [
    "number_of_weeks = 5\n",
    "number_of_weeks ** number_of_weeks"
   ]
  },
  {
   "cell_type": "markdown",
   "metadata": {},
   "source": [
    "Now that's more like it."
   ]
  },
  {
   "cell_type": "markdown",
   "metadata": {},
   "source": [
    "### Summary"
   ]
  },
  {
   "cell_type": "markdown",
   "metadata": {},
   "source": [
    "Great! In this lab, we were able to get a sense how to store information in variables through assignment and reassignment."
   ]
  }
 ],
 "metadata": {
  "kernelspec": {
   "display_name": "Python 3",
   "language": "python",
   "name": "python3"
  },
  "language_info": {
   "codemirror_mode": {
    "name": "ipython",
    "version": 3
   },
   "file_extension": ".py",
   "mimetype": "text/x-python",
   "name": "python",
   "nbconvert_exporter": "python",
   "pygments_lexer": "ipython3",
   "version": "3.6.4"
  }
 },
 "nbformat": 4,
 "nbformat_minor": 2
}
